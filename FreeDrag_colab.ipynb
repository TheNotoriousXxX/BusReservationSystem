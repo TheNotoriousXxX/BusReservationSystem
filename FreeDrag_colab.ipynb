{
  "cells": [
    {
      "cell_type": "markdown",
      "metadata": {
        "id": "view-in-github",
        "colab_type": "text"
      },
      "source": [
        "<a href=\"https://colab.research.google.com/github/TheNotoriousXxX/BusReservationSystem/blob/terminator2.0/FreeDrag_colab.ipynb\" target=\"_parent\"><img src=\"https://colab.research.google.com/assets/colab-badge.svg\" alt=\"Open In Colab\"/></a>"
      ]
    },
    {
      "cell_type": "code",
      "execution_count": null,
      "metadata": {
        "id": "NrgcDwZxgDOe"
      },
      "outputs": [],
      "source": [
        "%cd /content\n",
        "!git clone -b dev https://github.com/camenduru/FreeDrag\n",
        "%cd /content/FreeDrag/FreeDrag\n",
        "\n",
        "!pip install gradio\n",
        "\n",
        "!apt-get -y install -qq aria2\n",
        "!aria2c --console-log-level=error -c -x 16 -s 16 -k 1M https://huggingface.co/camenduru/FreeDrag/resolve/main/bicycles.pkl -d /content/FreeDrag/FreeDrag/checkpoints -o bicycles.pkl\n",
        "!aria2c --console-log-level=error -c -x 16 -s 16 -k 1M https://huggingface.co/camenduru/FreeDrag/resolve/main/cars.pkl -d /content/FreeDrag/FreeDrag/checkpoints -o cars.pkl\n",
        "!aria2c --console-log-level=error -c -x 16 -s 16 -k 1M https://huggingface.co/camenduru/FreeDrag/resolve/main/cats.pkl -d /content/FreeDrag/FreeDrag/checkpoints -o cats.pkl\n",
        "!aria2c --console-log-level=error -c -x 16 -s 16 -k 1M https://huggingface.co/camenduru/FreeDrag/resolve/main/churches.pkl -d /content/FreeDrag/FreeDrag/checkpoints -o churches.pkl\n",
        "!aria2c --console-log-level=error -c -x 16 -s 16 -k 1M https://huggingface.co/camenduru/FreeDrag/resolve/main/dogs.pkl -d /content/FreeDrag/FreeDrag/checkpoints -o dogs.pkl\n",
        "!aria2c --console-log-level=error -c -x 16 -s 16 -k 1M https://huggingface.co/camenduru/FreeDrag/resolve/main/elephants.pkl -d /content/FreeDrag/FreeDrag/checkpoints -o elephants.pkl\n",
        "!aria2c --console-log-level=error -c -x 16 -s 16 -k 1M https://huggingface.co/camenduru/FreeDrag/resolve/main/faces.pkl -d /content/FreeDrag/FreeDrag/checkpoints -o faces.pkl\n",
        "!aria2c --console-log-level=error -c -x 16 -s 16 -k 1M https://huggingface.co/camenduru/FreeDrag/resolve/main/giraffes.pkl -d /content/FreeDrag/FreeDrag/checkpoints -o giraffes.pkl\n",
        "!aria2c --console-log-level=error -c -x 16 -s 16 -k 1M https://huggingface.co/camenduru/FreeDrag/resolve/main/horses.pkl -d /content/FreeDrag/FreeDrag/checkpoints -o horses.pkl\n",
        "!aria2c --console-log-level=error -c -x 16 -s 16 -k 1M https://huggingface.co/camenduru/FreeDrag/resolve/main/lions.pkl -d /content/FreeDrag/FreeDrag/checkpoints -o lions.pkl\n",
        "!aria2c --console-log-level=error -c -x 16 -s 16 -k 1M https://huggingface.co/camenduru/FreeDrag/resolve/main/metfaces.pkl -d /content/FreeDrag/FreeDrag/checkpoints -o metfaces.pkl\n",
        "!aria2c --console-log-level=error -c -x 16 -s 16 -k 1M https://huggingface.co/camenduru/FreeDrag/resolve/main/parrots.pkl -d /content/FreeDrag/FreeDrag/checkpoints -o parrots.pkl\n",
        "\n",
        "!python FreeDrag_gradio.py"
      ]
    }
  ],
  "metadata": {
    "accelerator": "GPU",
    "colab": {
      "gpuType": "T4",
      "provenance": [],
      "include_colab_link": true
    },
    "kernelspec": {
      "display_name": "Python 3",
      "name": "python3"
    },
    "language_info": {
      "name": "python"
    }
  },
  "nbformat": 4,
  "nbformat_minor": 0
}