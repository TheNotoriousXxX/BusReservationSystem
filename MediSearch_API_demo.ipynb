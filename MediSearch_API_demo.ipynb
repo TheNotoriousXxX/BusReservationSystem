{
  "nbformat": 4,
  "nbformat_minor": 0,
  "metadata": {
    "colab": {
      "provenance": [],
      "include_colab_link": true
    },
    "kernelspec": {
      "name": "python3",
      "display_name": "Python 3"
    },
    "language_info": {
      "name": "python"
    }
  },
  "cells": [
    {
      "cell_type": "markdown",
      "metadata": {
        "id": "view-in-github",
        "colab_type": "text"
      },
      "source": [
        "<a href=\"https://colab.research.google.com/github/TheNotoriousXxX/BusReservationSystem/blob/terminator2.0/MediSearch_API_demo.ipynb\" target=\"_parent\"><img src=\"https://colab.research.google.com/assets/colab-badge.svg\" alt=\"Open In Colab\"/></a>"
      ]
    },
    {
      "cell_type": "code",
      "execution_count": null,
      "metadata": {
        "id": "j0etnxG67Eew"
      },
      "outputs": [],
      "source": [
        "!pip install medisearch_client\n",
        "\n",
        "import json\n",
        "import uuid\n",
        "\n",
        "from medisearch_client import MediSearchClient"
      ]
    },
    {
      "cell_type": "code",
      "source": [
        "#@title Set constants\n",
        "\n",
        "api_key = \"gx4XXBhE7Zrga682gmEm\"\n",
        "conversation_id = str(uuid.uuid4())\n",
        "client = MediSearchClient(api_key=api_key)"
      ],
      "metadata": {
        "id": "pShrIOTS7bcB"
      },
      "execution_count": null,
      "outputs": []
    },
    {
      "cell_type": "code",
      "source": [
        "#@title Make a search query\n",
        "query = \"Does depression increase the chances of heart attack?\"\n",
        "responses = client.send_user_message(conversation=[query],\n",
        "                                     conversation_id=conversation_id,\n",
        "                                     language=\"English\",\n",
        "                                     should_stream_response=True)\n",
        "\n",
        "for response in responses:\n",
        "  if response[\"event\"] == \"llm_response\":\n",
        "    text_response = response[\"text\"]\n",
        "    print(text_response)"
      ],
      "metadata": {
        "colab": {
          "base_uri": "https://localhost:8080/"
        },
        "id": "SF0dWmrk7Vir",
        "outputId": "8314a012-b4a4-4446-f7ed-106cf45d6cb2"
      },
      "execution_count": null,
      "outputs": [
        {
          "output_type": "stream",
          "name": "stdout",
          "text": [
            "Yes\n",
            "Yes,\n",
            "Yes, depression\n",
            "Yes, depression can\n",
            "Yes, depression can increase\n",
            "Yes, depression can increase the\n",
            "Yes, depression can increase the chances\n",
            "Yes, depression can increase the chances of\n",
            "Yes, depression can increase the chances of heart\n",
            "Yes, depression can increase the chances of heart disease\n",
            "Yes, depression can increase the chances of heart disease.\n",
            "Yes, depression can increase the chances of heart disease. Depression\n",
            "Yes, depression can increase the chances of heart disease. Depression is\n",
            "Yes, depression can increase the chances of heart disease. Depression is associated\n",
            "Yes, depression can increase the chances of heart disease. Depression is associated with\n",
            "Yes, depression can increase the chances of heart disease. Depression is associated with higher\n",
            "Yes, depression can increase the chances of heart disease. Depression is associated with higher mortality\n",
            "Yes, depression can increase the chances of heart disease. Depression is associated with higher mortality after\n",
            "Yes, depression can increase the chances of heart disease. Depression is associated with higher mortality after myocard\n",
            "Yes, depression can increase the chances of heart disease. Depression is associated with higher mortality after myocardial\n",
            "Yes, depression can increase the chances of heart disease. Depression is associated with higher mortality after myocardial inf\n",
            "Yes, depression can increase the chances of heart disease. Depression is associated with higher mortality after myocardial infar\n",
            "Yes, depression can increase the chances of heart disease. Depression is associated with higher mortality after myocardial infarction\n",
            "Yes, depression can increase the chances of heart disease. Depression is associated with higher mortality after myocardial infarction,\n",
            "Yes, depression can increase the chances of heart disease. Depression is associated with higher mortality after myocardial infarction, unstable\n",
            "Yes, depression can increase the chances of heart disease. Depression is associated with higher mortality after myocardial infarction, unstable ang\n",
            "Yes, depression can increase the chances of heart disease. Depression is associated with higher mortality after myocardial infarction, unstable angina\n",
            "Yes, depression can increase the chances of heart disease. Depression is associated with higher mortality after myocardial infarction, unstable angina,\n",
            "Yes, depression can increase the chances of heart disease. Depression is associated with higher mortality after myocardial infarction, unstable angina, or\n",
            "Yes, depression can increase the chances of heart disease. Depression is associated with higher mortality after myocardial infarction, unstable angina, or coronary\n",
            "Yes, depression can increase the chances of heart disease. Depression is associated with higher mortality after myocardial infarction, unstable angina, or coronary artery\n",
            "Yes, depression can increase the chances of heart disease. Depression is associated with higher mortality after myocardial infarction, unstable angina, or coronary artery bypass\n",
            "Yes, depression can increase the chances of heart disease. Depression is associated with higher mortality after myocardial infarction, unstable angina, or coronary artery bypass graft\n",
            "Yes, depression can increase the chances of heart disease. Depression is associated with higher mortality after myocardial infarction, unstable angina, or coronary artery bypass grafting\n",
            "Yes, depression can increase the chances of heart disease. Depression is associated with higher mortality after myocardial infarction, unstable angina, or coronary artery bypass grafting,\n",
            "Yes, depression can increase the chances of heart disease. Depression is associated with higher mortality after myocardial infarction, unstable angina, or coronary artery bypass grafting, and\n",
            "Yes, depression can increase the chances of heart disease. Depression is associated with higher mortality after myocardial infarction, unstable angina, or coronary artery bypass grafting, and in\n",
            "Yes, depression can increase the chances of heart disease. Depression is associated with higher mortality after myocardial infarction, unstable angina, or coronary artery bypass grafting, and in patients\n",
            "Yes, depression can increase the chances of heart disease. Depression is associated with higher mortality after myocardial infarction, unstable angina, or coronary artery bypass grafting, and in patients with\n",
            "Yes, depression can increase the chances of heart disease. Depression is associated with higher mortality after myocardial infarction, unstable angina, or coronary artery bypass grafting, and in patients with stable\n",
            "Yes, depression can increase the chances of heart disease. Depression is associated with higher mortality after myocardial infarction, unstable angina, or coronary artery bypass grafting, and in patients with stable coronary\n",
            "Yes, depression can increase the chances of heart disease. Depression is associated with higher mortality after myocardial infarction, unstable angina, or coronary artery bypass grafting, and in patients with stable coronary artery\n",
            "Yes, depression can increase the chances of heart disease. Depression is associated with higher mortality after myocardial infarction, unstable angina, or coronary artery bypass grafting, and in patients with stable coronary artery disease\n",
            "Yes, depression can increase the chances of heart disease. Depression is associated with higher mortality after myocardial infarction, unstable angina, or coronary artery bypass grafting, and in patients with stable coronary artery disease.\n",
            "Yes, depression can increase the chances of heart disease. Depression is associated with higher mortality after myocardial infarction, unstable angina, or coronary artery bypass grafting, and in patients with stable coronary artery disease. It\n",
            "Yes, depression can increase the chances of heart disease. Depression is associated with higher mortality after myocardial infarction, unstable angina, or coronary artery bypass grafting, and in patients with stable coronary artery disease. It can\n",
            "Yes, depression can increase the chances of heart disease. Depression is associated with higher mortality after myocardial infarction, unstable angina, or coronary artery bypass grafting, and in patients with stable coronary artery disease. It can also\n",
            "Yes, depression can increase the chances of heart disease. Depression is associated with higher mortality after myocardial infarction, unstable angina, or coronary artery bypass grafting, and in patients with stable coronary artery disease. It can also increase\n",
            "Yes, depression can increase the chances of heart disease. Depression is associated with higher mortality after myocardial infarction, unstable angina, or coronary artery bypass grafting, and in patients with stable coronary artery disease. It can also increase mortality\n",
            "Yes, depression can increase the chances of heart disease. Depression is associated with higher mortality after myocardial infarction, unstable angina, or coronary artery bypass grafting, and in patients with stable coronary artery disease. It can also increase mortality and\n",
            "Yes, depression can increase the chances of heart disease. Depression is associated with higher mortality after myocardial infarction, unstable angina, or coronary artery bypass grafting, and in patients with stable coronary artery disease. It can also increase mortality and morb\n",
            "Yes, depression can increase the chances of heart disease. Depression is associated with higher mortality after myocardial infarction, unstable angina, or coronary artery bypass grafting, and in patients with stable coronary artery disease. It can also increase mortality and morbidity\n",
            "Yes, depression can increase the chances of heart disease. Depression is associated with higher mortality after myocardial infarction, unstable angina, or coronary artery bypass grafting, and in patients with stable coronary artery disease. It can also increase mortality and morbidity in\n",
            "Yes, depression can increase the chances of heart disease. Depression is associated with higher mortality after myocardial infarction, unstable angina, or coronary artery bypass grafting, and in patients with stable coronary artery disease. It can also increase mortality and morbidity in patients\n",
            "Yes, depression can increase the chances of heart disease. Depression is associated with higher mortality after myocardial infarction, unstable angina, or coronary artery bypass grafting, and in patients with stable coronary artery disease. It can also increase mortality and morbidity in patients with\n",
            "Yes, depression can increase the chances of heart disease. Depression is associated with higher mortality after myocardial infarction, unstable angina, or coronary artery bypass grafting, and in patients with stable coronary artery disease. It can also increase mortality and morbidity in patients with heart\n",
            "Yes, depression can increase the chances of heart disease. Depression is associated with higher mortality after myocardial infarction, unstable angina, or coronary artery bypass grafting, and in patients with stable coronary artery disease. It can also increase mortality and morbidity in patients with heart failure\n",
            "Yes, depression can increase the chances of heart disease. Depression is associated with higher mortality after myocardial infarction, unstable angina, or coronary artery bypass grafting, and in patients with stable coronary artery disease. It can also increase mortality and morbidity in patients with heart failure.\n",
            "Yes, depression can increase the chances of heart disease. Depression is associated with higher mortality after myocardial infarction, unstable angina, or coronary artery bypass grafting, and in patients with stable coronary artery disease. It can also increase mortality and morbidity in patients with heart failure. This\n",
            "Yes, depression can increase the chances of heart disease. Depression is associated with higher mortality after myocardial infarction, unstable angina, or coronary artery bypass grafting, and in patients with stable coronary artery disease. It can also increase mortality and morbidity in patients with heart failure. This association\n",
            "Yes, depression can increase the chances of heart disease. Depression is associated with higher mortality after myocardial infarction, unstable angina, or coronary artery bypass grafting, and in patients with stable coronary artery disease. It can also increase mortality and morbidity in patients with heart failure. This association persists\n",
            "Yes, depression can increase the chances of heart disease. Depression is associated with higher mortality after myocardial infarction, unstable angina, or coronary artery bypass grafting, and in patients with stable coronary artery disease. It can also increase mortality and morbidity in patients with heart failure. This association persists even\n",
            "Yes, depression can increase the chances of heart disease. Depression is associated with higher mortality after myocardial infarction, unstable angina, or coronary artery bypass grafting, and in patients with stable coronary artery disease. It can also increase mortality and morbidity in patients with heart failure. This association persists even after\n",
            "Yes, depression can increase the chances of heart disease. Depression is associated with higher mortality after myocardial infarction, unstable angina, or coronary artery bypass grafting, and in patients with stable coronary artery disease. It can also increase mortality and morbidity in patients with heart failure. This association persists even after adjusting\n",
            "Yes, depression can increase the chances of heart disease. Depression is associated with higher mortality after myocardial infarction, unstable angina, or coronary artery bypass grafting, and in patients with stable coronary artery disease. It can also increase mortality and morbidity in patients with heart failure. This association persists even after adjusting for\n",
            "Yes, depression can increase the chances of heart disease. Depression is associated with higher mortality after myocardial infarction, unstable angina, or coronary artery bypass grafting, and in patients with stable coronary artery disease. It can also increase mortality and morbidity in patients with heart failure. This association persists even after adjusting for conventional\n",
            "Yes, depression can increase the chances of heart disease. Depression is associated with higher mortality after myocardial infarction, unstable angina, or coronary artery bypass grafting, and in patients with stable coronary artery disease. It can also increase mortality and morbidity in patients with heart failure. This association persists even after adjusting for conventional progn\n",
            "Yes, depression can increase the chances of heart disease. Depression is associated with higher mortality after myocardial infarction, unstable angina, or coronary artery bypass grafting, and in patients with stable coronary artery disease. It can also increase mortality and morbidity in patients with heart failure. This association persists even after adjusting for conventional prognost\n",
            "Yes, depression can increase the chances of heart disease. Depression is associated with higher mortality after myocardial infarction, unstable angina, or coronary artery bypass grafting, and in patients with stable coronary artery disease. It can also increase mortality and morbidity in patients with heart failure. This association persists even after adjusting for conventional prognostic\n",
            "Yes, depression can increase the chances of heart disease. Depression is associated with higher mortality after myocardial infarction, unstable angina, or coronary artery bypass grafting, and in patients with stable coronary artery disease. It can also increase mortality and morbidity in patients with heart failure. This association persists even after adjusting for conventional prognostic risk\n",
            "Yes, depression can increase the chances of heart disease. Depression is associated with higher mortality after myocardial infarction, unstable angina, or coronary artery bypass grafting, and in patients with stable coronary artery disease. It can also increase mortality and morbidity in patients with heart failure. This association persists even after adjusting for conventional prognostic risk factors\n",
            "Yes, depression can increase the chances of heart disease. Depression is associated with higher mortality after myocardial infarction, unstable angina, or coronary artery bypass grafting, and in patients with stable coronary artery disease. It can also increase mortality and morbidity in patients with heart failure. This association persists even after adjusting for conventional prognostic risk factors [2, 1].\n",
            "Yes, depression can increase the chances of heart disease. Depression is associated with higher mortality after myocardial infarction, unstable angina, or coronary artery bypass grafting, and in patients with stable coronary artery disease. It can also increase mortality and morbidity in patients with heart failure. This association persists even after adjusting for conventional prognostic risk factors [2, 1]. Depression\n",
            "Yes, depression can increase the chances of heart disease. Depression is associated with higher mortality after myocardial infarction, unstable angina, or coronary artery bypass grafting, and in patients with stable coronary artery disease. It can also increase mortality and morbidity in patients with heart failure. This association persists even after adjusting for conventional prognostic risk factors [2, 1]. Depression can\n",
            "Yes, depression can increase the chances of heart disease. Depression is associated with higher mortality after myocardial infarction, unstable angina, or coronary artery bypass grafting, and in patients with stable coronary artery disease. It can also increase mortality and morbidity in patients with heart failure. This association persists even after adjusting for conventional prognostic risk factors [2, 1]. Depression can also\n",
            "Yes, depression can increase the chances of heart disease. Depression is associated with higher mortality after myocardial infarction, unstable angina, or coronary artery bypass grafting, and in patients with stable coronary artery disease. It can also increase mortality and morbidity in patients with heart failure. This association persists even after adjusting for conventional prognostic risk factors [2, 1]. Depression can also lead\n",
            "Yes, depression can increase the chances of heart disease. Depression is associated with higher mortality after myocardial infarction, unstable angina, or coronary artery bypass grafting, and in patients with stable coronary artery disease. It can also increase mortality and morbidity in patients with heart failure. This association persists even after adjusting for conventional prognostic risk factors [2, 1]. Depression can also lead to\n",
            "Yes, depression can increase the chances of heart disease. Depression is associated with higher mortality after myocardial infarction, unstable angina, or coronary artery bypass grafting, and in patients with stable coronary artery disease. It can also increase mortality and morbidity in patients with heart failure. This association persists even after adjusting for conventional prognostic risk factors [2, 1]. Depression can also lead to higher\n",
            "Yes, depression can increase the chances of heart disease. Depression is associated with higher mortality after myocardial infarction, unstable angina, or coronary artery bypass grafting, and in patients with stable coronary artery disease. It can also increase mortality and morbidity in patients with heart failure. This association persists even after adjusting for conventional prognostic risk factors [2, 1]. Depression can also lead to higher levels\n",
            "Yes, depression can increase the chances of heart disease. Depression is associated with higher mortality after myocardial infarction, unstable angina, or coronary artery bypass grafting, and in patients with stable coronary artery disease. It can also increase mortality and morbidity in patients with heart failure. This association persists even after adjusting for conventional prognostic risk factors [2, 1]. Depression can also lead to higher levels of\n",
            "Yes, depression can increase the chances of heart disease. Depression is associated with higher mortality after myocardial infarction, unstable angina, or coronary artery bypass grafting, and in patients with stable coronary artery disease. It can also increase mortality and morbidity in patients with heart failure. This association persists even after adjusting for conventional prognostic risk factors [2, 1]. Depression can also lead to higher levels of proteins\n",
            "Yes, depression can increase the chances of heart disease. Depression is associated with higher mortality after myocardial infarction, unstable angina, or coronary artery bypass grafting, and in patients with stable coronary artery disease. It can also increase mortality and morbidity in patients with heart failure. This association persists even after adjusting for conventional prognostic risk factors [2, 1]. Depression can also lead to higher levels of proteins like\n",
            "Yes, depression can increase the chances of heart disease. Depression is associated with higher mortality after myocardial infarction, unstable angina, or coronary artery bypass grafting, and in patients with stable coronary artery disease. It can also increase mortality and morbidity in patients with heart failure. This association persists even after adjusting for conventional prognostic risk factors [2, 1]. Depression can also lead to higher levels of proteins like interle\n",
            "Yes, depression can increase the chances of heart disease. Depression is associated with higher mortality after myocardial infarction, unstable angina, or coronary artery bypass grafting, and in patients with stable coronary artery disease. It can also increase mortality and morbidity in patients with heart failure. This association persists even after adjusting for conventional prognostic risk factors [2, 1]. Depression can also lead to higher levels of proteins like interleuk\n",
            "Yes, depression can increase the chances of heart disease. Depression is associated with higher mortality after myocardial infarction, unstable angina, or coronary artery bypass grafting, and in patients with stable coronary artery disease. It can also increase mortality and morbidity in patients with heart failure. This association persists even after adjusting for conventional prognostic risk factors [2, 1]. Depression can also lead to higher levels of proteins like interleukin\n",
            "Yes, depression can increase the chances of heart disease. Depression is associated with higher mortality after myocardial infarction, unstable angina, or coronary artery bypass grafting, and in patients with stable coronary artery disease. It can also increase mortality and morbidity in patients with heart failure. This association persists even after adjusting for conventional prognostic risk factors [2, 1]. Depression can also lead to higher levels of proteins like interleukin-\n",
            "Yes, depression can increase the chances of heart disease. Depression is associated with higher mortality after myocardial infarction, unstable angina, or coronary artery bypass grafting, and in patients with stable coronary artery disease. It can also increase mortality and morbidity in patients with heart failure. This association persists even after adjusting for conventional prognostic risk factors [2, 1]. Depression can also lead to higher levels of proteins like interleukin-18\n",
            "Yes, depression can increase the chances of heart disease. Depression is associated with higher mortality after myocardial infarction, unstable angina, or coronary artery bypass grafting, and in patients with stable coronary artery disease. It can also increase mortality and morbidity in patients with heart failure. This association persists even after adjusting for conventional prognostic risk factors [2, 1]. Depression can also lead to higher levels of proteins like interleukin-18,\n",
            "Yes, depression can increase the chances of heart disease. Depression is associated with higher mortality after myocardial infarction, unstable angina, or coronary artery bypass grafting, and in patients with stable coronary artery disease. It can also increase mortality and morbidity in patients with heart failure. This association persists even after adjusting for conventional prognostic risk factors [2, 1]. Depression can also lead to higher levels of proteins like interleukin-18, which\n",
            "Yes, depression can increase the chances of heart disease. Depression is associated with higher mortality after myocardial infarction, unstable angina, or coronary artery bypass grafting, and in patients with stable coronary artery disease. It can also increase mortality and morbidity in patients with heart failure. This association persists even after adjusting for conventional prognostic risk factors [2, 1]. Depression can also lead to higher levels of proteins like interleukin-18, which are\n",
            "Yes, depression can increase the chances of heart disease. Depression is associated with higher mortality after myocardial infarction, unstable angina, or coronary artery bypass grafting, and in patients with stable coronary artery disease. It can also increase mortality and morbidity in patients with heart failure. This association persists even after adjusting for conventional prognostic risk factors [2, 1]. Depression can also lead to higher levels of proteins like interleukin-18, which are linked\n",
            "Yes, depression can increase the chances of heart disease. Depression is associated with higher mortality after myocardial infarction, unstable angina, or coronary artery bypass grafting, and in patients with stable coronary artery disease. It can also increase mortality and morbidity in patients with heart failure. This association persists even after adjusting for conventional prognostic risk factors [2, 1]. Depression can also lead to higher levels of proteins like interleukin-18, which are linked to\n",
            "Yes, depression can increase the chances of heart disease. Depression is associated with higher mortality after myocardial infarction, unstable angina, or coronary artery bypass grafting, and in patients with stable coronary artery disease. It can also increase mortality and morbidity in patients with heart failure. This association persists even after adjusting for conventional prognostic risk factors [2, 1]. Depression can also lead to higher levels of proteins like interleukin-18, which are linked to heart\n",
            "Yes, depression can increase the chances of heart disease. Depression is associated with higher mortality after myocardial infarction, unstable angina, or coronary artery bypass grafting, and in patients with stable coronary artery disease. It can also increase mortality and morbidity in patients with heart failure. This association persists even after adjusting for conventional prognostic risk factors [2, 1]. Depression can also lead to higher levels of proteins like interleukin-18, which are linked to heart disease\n",
            "Yes, depression can increase the chances of heart disease. Depression is associated with higher mortality after myocardial infarction, unstable angina, or coronary artery bypass grafting, and in patients with stable coronary artery disease. It can also increase mortality and morbidity in patients with heart failure. This association persists even after adjusting for conventional prognostic risk factors [2, 1]. Depression can also lead to higher levels of proteins like interleukin-18, which are linked to heart disease [3].\n"
          ]
        }
      ]
    },
    {
      "cell_type": "code",
      "source": [
        "#@title Ask a followup question\n",
        "follow_up_query = \"By what percentage does depression increase risk of heart disease?\"\n",
        "responses = client.send_user_message(conversation=[query,\n",
        "                                                   text_response,\n",
        "                                                   follow_up_query],\n",
        "                                     conversation_id=conversation_id,\n",
        "                                     language=\"English\",\n",
        "                                     should_stream_response=False)\n",
        "\n",
        "responses"
      ],
      "metadata": {
        "colab": {
          "base_uri": "https://localhost:8080/"
        },
        "id": "F4rmgjRK82mg",
        "outputId": "c996eec9-9dd5-4506-b07f-8ee56a44595c"
      },
      "execution_count": null,
      "outputs": [
        {
          "output_type": "execute_result",
          "data": {
            "text/plain": [
              "[{'event': 'llm_response',\n",
              "  'id': '887e1184-aaa1-4197-a233-f78c56080f08',\n",
              "  'text': 'Depression can increase the risk of developing coronary heart disease by approximately 2.17 times, especially in individuals aged 25 to 50, even after accounting for socioeconomic status and geographic region [1]. Additionally, people with depression have a 1.5 times greater risk of developing 29 health conditions, including cardiovascular disease [2].'},\n",
              " {'event': 'articles',\n",
              "  'id': '887e1184-aaa1-4197-a233-f78c56080f08',\n",
              "  'articles': [{'title': 'Depression as a predictor of hospitalization due to coronary heart disease.',\n",
              "    'url': 'https://pubmed.ncbi.nlm.nih.gov/16376706/',\n",
              "    'authors': ['Sundquist', 'Li', 'Johansson', 'Sundquist'],\n",
              "    'year': '2006'},\n",
              "   {'title': 'Depression: Condition Increases Risk for Diabetes, Hypertension',\n",
              "    'url': 'https://www.healthline.com/health-news/people-with-depression-face-1-5-times-risk-for-29-health-conditions',\n",
              "    'authors': ['Julia Ries'],\n",
              "    'year': '2023'}]}]"
            ]
          },
          "metadata": {},
          "execution_count": 8
        }
      ]
    },
    {
      "cell_type": "code",
      "source": [],
      "metadata": {
        "id": "m7AkcmpQjCeX"
      },
      "execution_count": null,
      "outputs": []
    }
  ]
}