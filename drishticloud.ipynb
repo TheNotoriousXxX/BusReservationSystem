{
  "nbformat": 4,
  "nbformat_minor": 0,
  "metadata": {
    "colab": {
      "provenance": [],
      "authorship_tag": "ABX9TyMjdH7wpn0CWvqQEVgN5X+S",
      "include_colab_link": true
    },
    "kernelspec": {
      "name": "python3",
      "display_name": "Python 3"
    },
    "language_info": {
      "name": "python"
    }
  },
  "cells": [
    {
      "cell_type": "markdown",
      "metadata": {
        "id": "view-in-github",
        "colab_type": "text"
      },
      "source": [
        "<a href=\"https://colab.research.google.com/github/TheNotoriousXxX/BusReservationSystem/blob/terminator2.0/drishticloud.ipynb\" target=\"_parent\"><img src=\"https://colab.research.google.com/assets/colab-badge.svg\" alt=\"Open In Colab\"/></a>"
      ]
    },
    {
      "cell_type": "code",
      "execution_count": 1,
      "metadata": {
        "colab": {
          "base_uri": "https://localhost:8080/"
        },
        "id": "qvWHfKaOaGnE",
        "outputId": "47373d83-cd07-4a9f-8b1b-a5d54dc60466"
      },
      "outputs": [
        {
          "output_type": "stream",
          "name": "stdout",
          "text": [
            "Reading package lists... Done\n",
            "Building dependency tree... Done\n",
            "Reading state information... Done\n",
            "The following additional packages will be installed:\n",
            "  tesseract-ocr-eng tesseract-ocr-osd\n",
            "The following NEW packages will be installed:\n",
            "  tesseract-ocr tesseract-ocr-eng tesseract-ocr-osd\n",
            "0 upgraded, 3 newly installed, 0 to remove and 16 not upgraded.\n",
            "Need to get 4,816 kB of archives.\n",
            "After this operation, 15.6 MB of additional disk space will be used.\n",
            "Get:1 http://archive.ubuntu.com/ubuntu jammy/universe amd64 tesseract-ocr-eng all 1:4.00~git30-7274cfa-1.1 [1,591 kB]\n",
            "Get:2 http://archive.ubuntu.com/ubuntu jammy/universe amd64 tesseract-ocr-osd all 1:4.00~git30-7274cfa-1.1 [2,990 kB]\n",
            "Get:3 http://archive.ubuntu.com/ubuntu jammy/universe amd64 tesseract-ocr amd64 4.1.1-2.1build1 [236 kB]\n",
            "Fetched 4,816 kB in 1s (4,009 kB/s)\n",
            "debconf: unable to initialize frontend: Dialog\n",
            "debconf: (No usable dialog-like program is installed, so the dialog based frontend cannot be used. at /usr/share/perl5/Debconf/FrontEnd/Dialog.pm line 78, <> line 3.)\n",
            "debconf: falling back to frontend: Readline\n",
            "debconf: unable to initialize frontend: Readline\n",
            "debconf: (This frontend requires a controlling tty.)\n",
            "debconf: falling back to frontend: Teletype\n",
            "dpkg-preconfigure: unable to re-open stdin: \n",
            "Selecting previously unselected package tesseract-ocr-eng.\n",
            "(Reading database ... 120893 files and directories currently installed.)\n",
            "Preparing to unpack .../tesseract-ocr-eng_1%3a4.00~git30-7274cfa-1.1_all.deb ...\n",
            "Unpacking tesseract-ocr-eng (1:4.00~git30-7274cfa-1.1) ...\n",
            "Selecting previously unselected package tesseract-ocr-osd.\n",
            "Preparing to unpack .../tesseract-ocr-osd_1%3a4.00~git30-7274cfa-1.1_all.deb ...\n",
            "Unpacking tesseract-ocr-osd (1:4.00~git30-7274cfa-1.1) ...\n",
            "Selecting previously unselected package tesseract-ocr.\n",
            "Preparing to unpack .../tesseract-ocr_4.1.1-2.1build1_amd64.deb ...\n",
            "Unpacking tesseract-ocr (4.1.1-2.1build1) ...\n",
            "Setting up tesseract-ocr-eng (1:4.00~git30-7274cfa-1.1) ...\n",
            "Setting up tesseract-ocr-osd (1:4.00~git30-7274cfa-1.1) ...\n",
            "Setting up tesseract-ocr (4.1.1-2.1build1) ...\n",
            "Processing triggers for man-db (2.10.2-1) ...\n",
            "Collecting pytesseract\n",
            "  Downloading pytesseract-0.3.10-py3-none-any.whl (14 kB)\n",
            "Requirement already satisfied: packaging>=21.3 in /usr/local/lib/python3.10/dist-packages (from pytesseract) (23.1)\n",
            "Requirement already satisfied: Pillow>=8.0.0 in /usr/local/lib/python3.10/dist-packages (from pytesseract) (9.4.0)\n",
            "Installing collected packages: pytesseract\n",
            "Successfully installed pytesseract-0.3.10\n"
          ]
        }
      ],
      "source": [
        "!sudo apt install tesseract-ocr\n",
        "!pip install pytesseract"
      ]
    },
    {
      "cell_type": "code",
      "source": [
        "%%capture\n",
        "!pip install super-gradients\n",
        "!pip install imutils\n",
        "!pip install roboflow\n",
        "!pip install pytube --upgrade\n",
        "\n",
        "!pip install torchinfo"
      ],
      "metadata": {
        "id": "iZs87RM2bMrS"
      },
      "execution_count": null,
      "outputs": []
    },
    {
      "cell_type": "code",
      "source": [
        "!pip install git+https://github.com/huggingface/transformers.git"
      ],
      "metadata": {
        "id": "qGpVWm5cbPU1"
      },
      "execution_count": null,
      "outputs": []
    },
    {
      "cell_type": "code",
      "source": [
        "!pip install SpeechRecognition\n",
        "!pip install gtts\n",
        "!pip install pydub\n",
        "!pip install requests\n",
        "!pip install Pillow\n",
        "!pip install ipython"
      ],
      "metadata": {
        "colab": {
          "base_uri": "https://localhost:8080/"
        },
        "id": "UkYTmdmghxgi",
        "outputId": "04343182-e9fd-40a0-b850-f2823543aef1"
      },
      "execution_count": 2,
      "outputs": [
        {
          "output_type": "stream",
          "name": "stdout",
          "text": [
            "Collecting SpeechRecognition\n",
            "  Downloading SpeechRecognition-3.10.0-py2.py3-none-any.whl (32.8 MB)\n",
            "\u001b[2K     \u001b[90m━━━━━━━━━━━━━━━━━━━━━━━━━━━━━━━━━━━━━━━━\u001b[0m \u001b[32m32.8/32.8 MB\u001b[0m \u001b[31m32.2 MB/s\u001b[0m eta \u001b[36m0:00:00\u001b[0m\n",
            "\u001b[?25hRequirement already satisfied: requests>=2.26.0 in /usr/local/lib/python3.10/dist-packages (from SpeechRecognition) (2.31.0)\n",
            "Requirement already satisfied: charset-normalizer<4,>=2 in /usr/local/lib/python3.10/dist-packages (from requests>=2.26.0->SpeechRecognition) (3.2.0)\n",
            "Requirement already satisfied: idna<4,>=2.5 in /usr/local/lib/python3.10/dist-packages (from requests>=2.26.0->SpeechRecognition) (3.4)\n",
            "Requirement already satisfied: urllib3<3,>=1.21.1 in /usr/local/lib/python3.10/dist-packages (from requests>=2.26.0->SpeechRecognition) (2.0.4)\n",
            "Requirement already satisfied: certifi>=2017.4.17 in /usr/local/lib/python3.10/dist-packages (from requests>=2.26.0->SpeechRecognition) (2023.7.22)\n",
            "Installing collected packages: SpeechRecognition\n",
            "Successfully installed SpeechRecognition-3.10.0\n",
            "Collecting gtts\n",
            "  Downloading gTTS-2.3.2-py3-none-any.whl (28 kB)\n",
            "Requirement already satisfied: requests<3,>=2.27 in /usr/local/lib/python3.10/dist-packages (from gtts) (2.31.0)\n",
            "Requirement already satisfied: click<8.2,>=7.1 in /usr/local/lib/python3.10/dist-packages (from gtts) (8.1.7)\n",
            "Requirement already satisfied: charset-normalizer<4,>=2 in /usr/local/lib/python3.10/dist-packages (from requests<3,>=2.27->gtts) (3.2.0)\n",
            "Requirement already satisfied: idna<4,>=2.5 in /usr/local/lib/python3.10/dist-packages (from requests<3,>=2.27->gtts) (3.4)\n",
            "Requirement already satisfied: urllib3<3,>=1.21.1 in /usr/local/lib/python3.10/dist-packages (from requests<3,>=2.27->gtts) (2.0.4)\n",
            "Requirement already satisfied: certifi>=2017.4.17 in /usr/local/lib/python3.10/dist-packages (from requests<3,>=2.27->gtts) (2023.7.22)\n",
            "Installing collected packages: gtts\n",
            "Successfully installed gtts-2.3.2\n",
            "Collecting pydub\n",
            "  Downloading pydub-0.25.1-py2.py3-none-any.whl (32 kB)\n",
            "Installing collected packages: pydub\n",
            "Successfully installed pydub-0.25.1\n",
            "Requirement already satisfied: requests in /usr/local/lib/python3.10/dist-packages (2.31.0)\n",
            "Requirement already satisfied: charset-normalizer<4,>=2 in /usr/local/lib/python3.10/dist-packages (from requests) (3.2.0)\n",
            "Requirement already satisfied: idna<4,>=2.5 in /usr/local/lib/python3.10/dist-packages (from requests) (3.4)\n",
            "Requirement already satisfied: urllib3<3,>=1.21.1 in /usr/local/lib/python3.10/dist-packages (from requests) (2.0.4)\n",
            "Requirement already satisfied: certifi>=2017.4.17 in /usr/local/lib/python3.10/dist-packages (from requests) (2023.7.22)\n",
            "Requirement already satisfied: Pillow in /usr/local/lib/python3.10/dist-packages (9.4.0)\n",
            "Requirement already satisfied: ipython in /usr/local/lib/python3.10/dist-packages (7.34.0)\n",
            "Requirement already satisfied: setuptools>=18.5 in /usr/local/lib/python3.10/dist-packages (from ipython) (67.7.2)\n",
            "Collecting jedi>=0.16 (from ipython)\n",
            "  Downloading jedi-0.19.0-py2.py3-none-any.whl (1.6 MB)\n",
            "\u001b[2K     \u001b[90m━━━━━━━━━━━━━━━━━━━━━━━━━━━━━━━━━━━━━━━━\u001b[0m \u001b[32m1.6/1.6 MB\u001b[0m \u001b[31m16.3 MB/s\u001b[0m eta \u001b[36m0:00:00\u001b[0m\n",
            "\u001b[?25hRequirement already satisfied: decorator in /usr/local/lib/python3.10/dist-packages (from ipython) (4.4.2)\n",
            "Requirement already satisfied: pickleshare in /usr/local/lib/python3.10/dist-packages (from ipython) (0.7.5)\n",
            "Requirement already satisfied: traitlets>=4.2 in /usr/local/lib/python3.10/dist-packages (from ipython) (5.7.1)\n",
            "Requirement already satisfied: prompt-toolkit!=3.0.0,!=3.0.1,<3.1.0,>=2.0.0 in /usr/local/lib/python3.10/dist-packages (from ipython) (3.0.39)\n",
            "Requirement already satisfied: pygments in /usr/local/lib/python3.10/dist-packages (from ipython) (2.16.1)\n",
            "Requirement already satisfied: backcall in /usr/local/lib/python3.10/dist-packages (from ipython) (0.2.0)\n",
            "Requirement already satisfied: matplotlib-inline in /usr/local/lib/python3.10/dist-packages (from ipython) (0.1.6)\n",
            "Requirement already satisfied: pexpect>4.3 in /usr/local/lib/python3.10/dist-packages (from ipython) (4.8.0)\n",
            "Requirement already satisfied: parso<0.9.0,>=0.8.3 in /usr/local/lib/python3.10/dist-packages (from jedi>=0.16->ipython) (0.8.3)\n",
            "Requirement already satisfied: ptyprocess>=0.5 in /usr/local/lib/python3.10/dist-packages (from pexpect>4.3->ipython) (0.7.0)\n",
            "Requirement already satisfied: wcwidth in /usr/local/lib/python3.10/dist-packages (from prompt-toolkit!=3.0.0,!=3.0.1,<3.1.0,>=2.0.0->ipython) (0.2.6)\n",
            "Installing collected packages: jedi\n",
            "Successfully installed jedi-0.19.0\n"
          ]
        }
      ]
    },
    {
      "cell_type": "code",
      "source": [],
      "metadata": {
        "id": "tWT11Bf1j8h3"
      },
      "execution_count": null,
      "outputs": []
    },
    {
      "cell_type": "code",
      "source": [
        "#main and also voice output in all of the codes\n",
        "#desktop version\n",
        "import os\n",
        "import subprocess\n",
        "import speech_recognition as sr\n",
        "from gtts import gTTS\n",
        "from pydub import AudioSegment\n",
        "from pydub.playback import play\n",
        "import requests\n",
        "from PIL import Image\n",
        "\n",
        "\n",
        "def execute_command(command):\n",
        "    try:\n",
        "        subprocess.run([\"python\", command])\n",
        "    except Exception as e:\n",
        "        print(f\"Error executing command: {str(e)}\")\n",
        "\n",
        "def speak(text):\n",
        "    tts = gTTS(text=text, lang=\"en\")\n",
        "    tts.save(\"output.mp3\")\n",
        "\n",
        "    # Play the generated audio\n",
        "    sound = AudioSegment.from_mp3(\"output.mp3\")\n",
        "    play(sound)\n",
        "\n",
        "def main():\n",
        "    recognizer = sr.Recognizer()\n",
        "\n",
        "    with sr.Microphone() as source:\n",
        "        print(\"Listening for voice command...\")\n",
        "        audio = recognizer.listen(source)\n",
        "\n",
        "        try:\n",
        "            # Recognize speech using Google Cloud Speech Recognition\n",
        "            text = recognizer.recognize_google(audio)\n",
        "            print(f\"Command detected: {text}\")\n",
        "\n",
        "            # Check the recognized command and execute the corresponding Python file\n",
        "            if \"describe\" in text.lower():\n",
        "                speak(\"Starting image captioning\")\n",
        "                execute_command(\"sas.py\")\n",
        "            elif \"vqa\" in text.lower():\n",
        "                speak(\"Starting vqa\")\n",
        "                execute_command(\"pas.py\")\n",
        "            elif \"ocr\" in text.lower():\n",
        "                speak(\"Starting ocr\")\n",
        "                execute_command(\"ocr.py\")\n",
        "            elif \"alert\" in text.lower():\n",
        "                speak(\"Starting alert\")\n",
        "                execute_command(\"alert.py\")\n",
        "            else:\n",
        "                speak(\"No recognized command.\")\n",
        "        except sr.UnknownValueError:\n",
        "            speak(\"Google Cloud Speech Recognition could not understand audio.\")\n",
        "        except sr.RequestError as e:\n",
        "            speak(f\"Could not request results from Google Cloud Speech Recognition service; {e}\")\n",
        "\n",
        "if __name__ == \"__main__\":\n",
        "    main()"
      ],
      "metadata": {
        "id": "_zcoAJVBbEOw"
      },
      "execution_count": null,
      "outputs": []
    },
    {
      "cell_type": "code",
      "source": [
        "import speech_recognition as sr\n",
        "\n",
        "# Initialize the recognizer\n",
        "recognizer = sr.Recognizer()\n",
        "\n",
        "# Load your WAV file\n",
        "wav_file_path = '/content/ocr1.wav'  # Replace with the path to your WAV file\n",
        "\n",
        "with sr.AudioFile(wav_file_path) as source:\n",
        "    print(\"Transcribing audio...\")\n",
        "\n",
        "    # Adjust the recognizer sensitivity to account for ambient noise (if needed)\n",
        "    recognizer.adjust_for_ambient_noise(source)\n",
        "\n",
        "    try:\n",
        "        # Recognize speech using Google's Speech Recognition\n",
        "        audio_data = recognizer.record(source)\n",
        "        text = recognizer.recognize_google(audio_data)\n",
        "        print(\"Transcription: \", text)\n",
        "    except sr.UnknownValueError:\n",
        "        print(\"Google's Speech Recognition could not understand the audio.\")\n",
        "    except sr.RequestError as e:\n",
        "        print(f\"Could not request results from Google's Speech Recognition service; {e}\")\n"
      ],
      "metadata": {
        "colab": {
          "base_uri": "https://localhost:8080/"
        },
        "id": "srG9tldBnKdP",
        "outputId": "dab16c9d-2887-4770-d87a-23794b2337c4"
      },
      "execution_count": 8,
      "outputs": [
        {
          "output_type": "stream",
          "name": "stdout",
          "text": [
            "Transcribing audio...\n",
            "Transcription:  CR\n"
          ]
        }
      ]
    },
    {
      "cell_type": "code",
      "source": [
        "#colab version\n",
        "import os\n",
        "import speech_recognition as sr\n",
        "from gtts import gTTS\n",
        "from pydub import AudioSegment\n",
        "from pydub.playback import play\n",
        "from IPython.display import Audio, display\n",
        "\n",
        "# from ocr import perform_ocr\n",
        "\n",
        "import pytesseract\n",
        "import shutil\n",
        "import os\n",
        "import random\n",
        "import pytesseract\n",
        "from PIL import Image\n",
        "\n",
        "def perform_ocr():\n",
        "    try:\n",
        "        extracted_information = pytesseract.image_to_string(Image.open('Screenshot (6).png'))\n",
        "        print(extracted_information)\n",
        "    except Exception as e:\n",
        "        print(f\"Error performing OCR: {str(e)}\")\n",
        "\n",
        "\n",
        "\n",
        "\n",
        "\n",
        "# def execute_command(command):\n",
        "#     # In Colab, you can't directly execute external Python scripts; you can run functions or code blocks instead.\n",
        "#     print(f\"Executing command: {command}\")\n",
        "\n",
        "# def speak(text):\n",
        "#     tts = gTTS(text=text, lang=\"en\")\n",
        "#     tts.save(\"output.mp3\")\n",
        "\n",
        "#     # Play the generated audio\n",
        "#     sound = AudioSegment.from_mp3(\"output.mp3\")\n",
        "#     play(sound)\n",
        "#     display(Audio(\"output.mp3\", autoplay=True))\n",
        "\n",
        "def main():\n",
        "    recognizer = sr.Recognizer()\n",
        "\n",
        "    # with sr.Microphone() as source:\n",
        "    #     print(\"Listening for voice command...\")\n",
        "    #     audio = recognizer.listen(source)\n",
        "\n",
        "            # # Recognize speech using Google Cloud Speech Recognition\n",
        "            # text = recognizer.recognize_google(audio)\n",
        "            # print(f\"Command detected: {text}\")\n",
        "\n",
        "            # Check the recognized command and perform corresponding actions\n",
        "    if \"describe\" in text.lower():\n",
        "        speak(\"Starting image captioning\")\n",
        "        # execute_command(\"sas.py\")  # Commented out, as you can't execute external scripts in Colab\n",
        "    elif \"vqa\" in text.lower():\n",
        "        speak(\"Starting vqa\")\n",
        "        # execute_command(\"pas.py\")  # Commented out, as you can't execute external scripts in Colab\n",
        "    elif \"cr\" in text.lower():\n",
        "        # speak(\"Starting ocr\")\n",
        "        perform_ocr()  # Commented out, as you can't execute external scripts in Colab\n",
        "    elif \"alert\" in text.lower():\n",
        "        speak(\"Starting alert\")\n",
        "        # execute_command(\"alert.py\")  # Commented out, as you can't execute external scripts in Colab\n",
        "    else:\n",
        "        speak(\"No recognized command.\")\n",
        "\n",
        "if __name__ == \"__main__\":\n",
        "    main()\n"
      ],
      "metadata": {
        "colab": {
          "base_uri": "https://localhost:8080/"
        },
        "id": "dJudwwKNbcn6",
        "outputId": "d66a1866-5d93-4179-dcd8-c2c2e6d88268"
      },
      "execution_count": 14,
      "outputs": [
        {
          "output_type": "stream",
          "name": "stdout",
          "text": [
            "Q) GitHub - minar09/aweson x | @ CloTH-VTON x @ Semantically Multimoda’ x — €) GitHub - aimagelab/dres: x | ©) GitHub-rubelchowdhury x | + Vv = a x\n",
            "\n",
            "Cc @ seanseattle.github.io/SMIS/ s& Oo e Guest\n",
            "\n",
            "LLUAZALLULLD ULLIVELISILy UL OCLCLICE AllU LOECILIUIUZYy FCKILY ULLVErsiIly\n",
            "in CVPR 2020\n",
            "Arxiv PyTorch\n",
            "\n",
            "Semantic\n",
            "masks\n",
            "\n",
            "Controller Generated images Semantic style sources Semantic mask source\n",
            "\n",
            "   \n",
            "   \n",
            "       \n",
            "\n",
            "Generated images using mixed semantic styles\n",
            "\n",
            "a oP\n",
            "im\n",
            "\n",
            "Semantic masks Generated images Semantic masks Generated images\n",
            "\n",
            "  \n",
            "\n",
            "Add a bed to a room\n",
            "\n",
            "    \n",
            "\n",
            " \n",
            "\n",
            "Style b\n",
            "Building to tree\n",
            "y\n",
            "ie :\n",
            "-\n",
            "_ 2 Pn 12:32 AM\n",
            "=> Mostly cloudy D Search me AD ® s2023 O\n",
            "\f\n"
          ]
        }
      ]
    }
  ]
}