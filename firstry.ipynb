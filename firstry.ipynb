{
  "nbformat": 4,
  "nbformat_minor": 0,
  "metadata": {
    "colab": {
      "provenance": [],
      "gpuType": "T4",
      "authorship_tag": "ABX9TyORkIfI2T97BbbM6lwL9NU0",
      "include_colab_link": true
    },
    "kernelspec": {
      "name": "python3",
      "display_name": "Python 3"
    },
    "language_info": {
      "name": "python"
    },
    "accelerator": "GPU"
  },
  "cells": [
    {
      "cell_type": "markdown",
      "metadata": {
        "id": "view-in-github",
        "colab_type": "text"
      },
      "source": [
        "<a href=\"https://colab.research.google.com/github/TheNotoriousXxX/BusReservationSystem/blob/terminator2.0/firstry.ipynb\" target=\"_parent\"><img src=\"https://colab.research.google.com/assets/colab-badge.svg\" alt=\"Open In Colab\"/></a>"
      ]
    },
    {
      "cell_type": "code",
      "execution_count": null,
      "metadata": {
        "id": "cpqnZ0Ti97q6"
      },
      "outputs": [],
      "source": [
        "%%capture\n",
        "!sudo apt install tesseract-ocr\n",
        "!pip install pytesseract\n",
        "!pip install git+https://github.com/huggingface/transformers.git\n",
        "!pip install super-gradients\n",
        "!pip install imutils\n",
        "!pip install roboflow\n",
        "!pip install pytube --upgrade\n",
        "\n",
        "!pip install torchinfo"
      ]
    },
    {
      "cell_type": "code",
      "source": [
        "#main and also voice output in all of the codes\n",
        "import os\n",
        "import subprocess\n",
        "import speech_recognition as sr\n",
        "from gtts import gTTS\n",
        "from pydub import AudioSegment\n",
        "from pydub.playback import play\n",
        "import requests\n",
        "from PIL import Image\n",
        "\n",
        "\n",
        "def execute_command(command):\n",
        "    try:\n",
        "        subprocess.run([\"python\", command])\n",
        "    except Exception as e:\n",
        "        print(f\"Error executing command: {str(e)}\")\n",
        "\n",
        "def speak(text):\n",
        "    tts = gTTS(text=text, lang=\"en\")\n",
        "    tts.save(\"output.mp3\")\n",
        "\n",
        "    # Play the generated audio\n",
        "    sound = AudioSegment.from_mp3(\"output.mp3\")\n",
        "    play(sound)\n",
        "\n",
        "def main():\n",
        "    recognizer = sr.Recognizer()\n",
        "\n",
        "    with sr.Microphone() as source:\n",
        "        print(\"Listening for voice command...\")\n",
        "        audio = recognizer.listen(source)\n",
        "\n",
        "        try:\n",
        "            # Recognize speech using Google Cloud Speech Recognition\n",
        "            text = recognizer.recognize_google(audio)\n",
        "            print(f\"Command detected: {text}\")\n",
        "\n",
        "            # Check the recognized command and execute the corresponding Python file\n",
        "            if \"describe\" in text.lower():\n",
        "                speak(\"Starting image captioning\")\n",
        "                execute_command(\"sas.py\")\n",
        "            elif \"vqa\" in text.lower():\n",
        "                speak(\"Starting vqa\")\n",
        "                execute_command(\"pas.py\")\n",
        "            elif \"ocr\" in text.lower():\n",
        "                speak(\"Starting ocr\")\n",
        "                execute_command(\"ocr.py\")\n",
        "            elif \"alert\" in text.lower():\n",
        "                speak(\"Starting alert\")\n",
        "                execute_command(\"alert.py\")\n",
        "            else:\n",
        "                speak(\"No recognized command.\")\n",
        "        except sr.UnknownValueError:\n",
        "            speak(\"Google Cloud Speech Recognition could not understand audio.\")\n",
        "        except sr.RequestError as e:\n",
        "            speak(f\"Could not request results from Google Cloud Speech Recognition service; {e}\")\n",
        "\n",
        "if __name__ == \"__main__\":\n",
        "    main()"
      ],
      "metadata": {
        "id": "ZB15jZt--bAR"
      },
      "execution_count": null,
      "outputs": []
    }
  ]
}