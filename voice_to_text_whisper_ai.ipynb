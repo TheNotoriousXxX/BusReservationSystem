{
  "nbformat": 4,
  "nbformat_minor": 0,
  "metadata": {
    "colab": {
      "provenance": [],
      "include_colab_link": true
    },
    "kernelspec": {
      "name": "python3",
      "display_name": "Python 3"
    },
    "language_info": {
      "name": "python"
    },
    "accelerator": "GPU",
    "gpuClass": "standard"
  },
  "cells": [
    {
      "cell_type": "markdown",
      "metadata": {
        "id": "view-in-github",
        "colab_type": "text"
      },
      "source": [
        "<a href=\"https://colab.research.google.com/github/TheNotoriousXxX/BusReservationSystem/blob/terminator2.0/voice_to_text_whisper_ai.ipynb\" target=\"_parent\"><img src=\"https://colab.research.google.com/assets/colab-badge.svg\" alt=\"Open In Colab\"/></a>"
      ]
    },
    {
      "cell_type": "markdown",
      "source": [
        "# Install Whisper"
      ],
      "metadata": {
        "id": "sAkUJYY7r-f-"
      }
    },
    {
      "cell_type": "code",
      "source": [
        "# install openai's whisper\n",
        "!pip install git+https://github.com/openai/whisper.git\n",
        "\n",
        "# update the packages\n",
        "!sudo apt update && sudo apt install ffmpeg"
      ],
      "metadata": {
        "id": "ESs9d5ZKr_Sa"
      },
      "execution_count": null,
      "outputs": []
    },
    {
      "cell_type": "markdown",
      "source": [
        "# Upload .WAV file and change the directory, then run it 👌"
      ],
      "metadata": {
        "id": "VQzSCbAAsKCR"
      }
    },
    {
      "cell_type": "code",
      "source": [
        "# Run Whisper AI:\n",
        "!whisper /content/untitled.wav --model medium.en\n",
        "\n",
        "# Additional arguments:\n",
        "!whisper -h"
      ],
      "metadata": {
        "id": "nOOzLCUPsUNp"
      },
      "execution_count": null,
      "outputs": []
    }
  ]
}